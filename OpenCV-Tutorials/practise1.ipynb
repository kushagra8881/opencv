{
 "cells": [
  {
   "cell_type": "code",
   "execution_count": 36,
   "metadata": {
    "ExecuteTime": {
     "end_time": "2024-01-27T04:39:04.460867177Z",
     "start_time": "2024-01-27T04:39:04.404740972Z"
    }
   },
   "outputs": [
    {
     "ename": "AttributeError",
     "evalue": "'NoneType' object has no attribute 'shape'",
     "output_type": "error",
     "traceback": [
      "\u001B[0;31m---------------------------------------------------------------------------\u001B[0m",
      "\u001B[0;31mAttributeError\u001B[0m                            Traceback (most recent call last)",
      "Cell \u001B[0;32mIn[36], line 8\u001B[0m\n\u001B[1;32m      6\u001B[0m width\u001B[38;5;241m=\u001B[39m\u001B[38;5;28mint\u001B[39m(cap\u001B[38;5;241m.\u001B[39mget(\u001B[38;5;241m3\u001B[39m))\n\u001B[1;32m      7\u001B[0m height\u001B[38;5;241m=\u001B[39m\u001B[38;5;28mint\u001B[39m(cap\u001B[38;5;241m.\u001B[39mget(\u001B[38;5;241m4\u001B[39m))\n\u001B[0;32m----> 8\u001B[0m image\u001B[38;5;241m=\u001B[39mnp\u001B[38;5;241m.\u001B[39mzeros(\u001B[43mframe\u001B[49m\u001B[38;5;241;43m.\u001B[39;49m\u001B[43mshape\u001B[49m,np\u001B[38;5;241m.\u001B[39muint8)\n\u001B[1;32m      9\u001B[0m smaller_frame\u001B[38;5;241m=\u001B[39mcv\u001B[38;5;241m.\u001B[39mresize(frame,(\u001B[38;5;241m0\u001B[39m,\u001B[38;5;241m0\u001B[39m),fx\u001B[38;5;241m=\u001B[39m\u001B[38;5;241m0.5\u001B[39m,fy\u001B[38;5;241m=\u001B[39m\u001B[38;5;241m0.5\u001B[39m)\n\u001B[1;32m     10\u001B[0m image[:height\u001B[38;5;241m/\u001B[39m\u001B[38;5;241m/\u001B[39m\u001B[38;5;241m2\u001B[39m,:width\u001B[38;5;241m/\u001B[39m\u001B[38;5;241m/\u001B[39m\u001B[38;5;241m2\u001B[39m]\u001B[38;5;241m=\u001B[39mcv\u001B[38;5;241m.\u001B[39mrotate(smaller_frame,cv\u001B[38;5;241m.\u001B[39mROTATE_180)\n",
      "\u001B[0;31mAttributeError\u001B[0m: 'NoneType' object has no attribute 'shape'"
     ]
    }
   ],
   "source": [
    "import numpy as np \n",
    "import cv2 as cv\n",
    "cap=cv.VideoCapture(0)\n",
    "while True:\n",
    "    ret,frame=cap.read()\n",
    "    width=int(cap.get(3))\n",
    "    height=int(cap.get(4))\n",
    "    image=np.zeros(frame.shape,np.uint8)\n",
    "    smaller_frame=cv.resize(frame,(0,0),fx=0.5,fy=0.5)\n",
    "    image[:height//2,:width//2]=cv.rotate(smaller_frame,cv.ROTATE_180)\n",
    "    image[height//2:,:width//2]=smaller_frame\n",
    "    image[:height//2,width//2:]=smaller_frame\n",
    "    image[height//2:,width//2:]=smaller_frame\n",
    "    cv.imshow('frame',image)\n",
    "    if cv.waitKey(1)==ord('q'):\n",
    "        break\n",
    "cap.release()\n",
    "cv.destroyAllWindows()   "
   ]
  },
  {
   "cell_type": "code",
   "execution_count": null,
   "metadata": {
    "ExecuteTime": {
     "start_time": "2024-01-27T04:39:04.460783939Z"
    }
   },
   "outputs": [],
   "source": [
    "cap = cv.VideoCapture(0)\n",
    "if not cap.isOpened():\n",
    "    print(\"Error: Could not open camera.\")\n",
    "else:\n",
    "    print(\"Camera opened successfully.\")\n"
   ]
  },
  {
   "cell_type": "code",
   "execution_count": 37,
   "metadata": {
    "ExecuteTime": {
     "end_time": "2024-01-27T05:21:02.279632639Z",
     "start_time": "2024-01-27T05:21:02.234607191Z"
    }
   },
   "outputs": [
    {
     "ename": "error",
     "evalue": "OpenCV(4.8.1) /io/opencv/modules/highgui/src/window.cpp:971: error: (-215:Assertion failed) size.width>0 && size.height>0 in function 'imshow'\n",
     "output_type": "error",
     "traceback": [
      "\u001B[0;31m---------------------------------------------------------------------------\u001B[0m",
      "\u001B[0;31merror\u001B[0m                                     Traceback (most recent call last)",
      "Cell \u001B[0;32mIn[37], line 15\u001B[0m\n\u001B[1;32m     13\u001B[0m img\u001B[38;5;241m=\u001B[39mcv2\u001B[38;5;241m.\u001B[39mrectangle(img,(\u001B[38;5;241m100\u001B[39m,\u001B[38;5;241m100\u001B[39m),(\u001B[38;5;241m200\u001B[39m,\u001B[38;5;241m200\u001B[39m),(\u001B[38;5;241m128\u001B[39m,\u001B[38;5;241m128\u001B[39m,\u001B[38;5;241m128\u001B[39m),\u001B[38;5;241m-\u001B[39m\u001B[38;5;241m1\u001B[39m)\n\u001B[1;32m     14\u001B[0m img\u001B[38;5;241m=\u001B[39mcv2\u001B[38;5;241m.\u001B[39mcircle(img,(\u001B[38;5;241m300\u001B[39m,\u001B[38;5;241m300\u001B[39m),\u001B[38;5;241m60\u001B[39m,(\u001B[38;5;241m0\u001B[39m,\u001B[38;5;241m0\u001B[39m,\u001B[38;5;241m255\u001B[39m),\u001B[38;5;241m-\u001B[39m\u001B[38;5;241m1\u001B[39m)\n\u001B[0;32m---> 15\u001B[0m \u001B[43mcv2\u001B[49m\u001B[38;5;241;43m.\u001B[39;49m\u001B[43mimshow\u001B[49m\u001B[43m(\u001B[49m\u001B[38;5;124;43m'\u001B[39;49m\u001B[38;5;124;43mframe\u001B[39;49m\u001B[38;5;124;43m'\u001B[39;49m\u001B[43m,\u001B[49m\u001B[43m \u001B[49m\u001B[43mframe\u001B[49m\u001B[43m)\u001B[49m\n\u001B[1;32m     16\u001B[0m font \u001B[38;5;241m=\u001B[39m cv2\u001B[38;5;241m.\u001B[39mFONT_HERSHEY_SIMPLEX\n\u001B[1;32m     17\u001B[0m img \u001B[38;5;241m=\u001B[39m cv2\u001B[38;5;241m.\u001B[39mputText(img, \u001B[38;5;124m'\u001B[39m\u001B[38;5;124mTim is Great!\u001B[39m\u001B[38;5;124m'\u001B[39m, (\u001B[38;5;241m10\u001B[39m, height \u001B[38;5;241m-\u001B[39m \u001B[38;5;241m10\u001B[39m), font, \u001B[38;5;241m2\u001B[39m, (\u001B[38;5;241m0\u001B[39m, \u001B[38;5;241m0\u001B[39m, \u001B[38;5;241m0\u001B[39m), \u001B[38;5;241m5\u001B[39m, cv2\u001B[38;5;241m.\u001B[39mLINE_AA)\n",
      "\u001B[0;31merror\u001B[0m: OpenCV(4.8.1) /io/opencv/modules/highgui/src/window.cpp:971: error: (-215:Assertion failed) size.width>0 && size.height>0 in function 'imshow'\n"
     ]
    }
   ],
   "source": [
    "import numpy as np\n",
    "import cv2\n",
    "\n",
    "cap = cv2.VideoCapture(0)\n",
    "\n",
    "while True:\n",
    "    ret, frame = cap.read()\n",
    "    width = int(cap.get(3))\n",
    "    height = int(cap.get(4))\n",
    "\n",
    "    img = cv2.line(frame, (0, 0), (width, height), (255, 0, 0), 10)\n",
    "    img = cv2.line(img, (0, height), (width, 0), (0, 255, 0), 5)\n",
    "    img=cv2.rectangle(img,(100,100),(200,200),(128,128,128),-1)\n",
    "    img=cv2.circle(img,(300,300),60,(0,0,255),-1)\n",
    "    cv2.imshow('frame', frame)\n",
    "    font = cv2.FONT_HERSHEY_SIMPLEX\n",
    "    img = cv2.putText(img, 'Tim is Great!', (10, height - 10), font, 2, (0, 0, 0), 5, cv2.LINE_AA)\n",
    "    if cv2.waitKey(1) == ord('q'):\n",
    "        break\n",
    "\n",
    "cap.release()\n",
    "cv2.destroyAllWindows()"
   ]
  },
  {
   "cell_type": "code",
   "execution_count": null,
   "metadata": {
    "ExecuteTime": {
     "start_time": "2024-01-27T04:39:04.461124008Z"
    }
   },
   "outputs": [],
   "source": [
    "import numpy as np\n",
    "import cv2\n",
    "\n",
    "cap = cv2.VideoCapture(0)\n",
    "\n",
    "while True:\n",
    "    ret, frame = cap.read()\n",
    "    width = int(cap.get(3))\n",
    "    height = int(cap.get(4))\n",
    "    hsv=cv2.cvtColor(frame,cv2.COLOR_BGR2HSV)\n",
    "    lower_blue=np.array([110,50,50])\n",
    "    upper_blue=np.array([130,255,255])\n",
    "    mask=cv2.inRange(hsv,lower_blue,upper_blue)\n",
    "    cv2.imshow(\"frame\",hsv)\n",
    "    cv2.imshow(\"sndn\",mask)\n",
    "    cv2.imshow('sd',frame)\n",
    "    if cv2.waitKey(1) == ord('q'):\n",
    "        break\n",
    "\n",
    "cap.release()\n",
    "cv2.destroyAllWindows()"
   ]
  },
  {
   "cell_type": "code",
   "outputs": [],
   "source": [],
   "metadata": {
    "collapsed": false,
    "ExecuteTime": {
     "start_time": "2024-01-27T04:39:04.461194526Z"
    }
   },
   "execution_count": null
  },
  {
   "cell_type": "code",
   "outputs": [],
   "source": [],
   "metadata": {
    "collapsed": false,
    "ExecuteTime": {
     "start_time": "2024-01-27T04:39:04.461246828Z"
    }
   }
  }
 ],
 "metadata": {
  "kernelspec": {
   "display_name": ".venv",
   "language": "python",
   "name": "python3"
  },
  "language_info": {
   "codemirror_mode": {
    "name": "ipython",
    "version": 3
   },
   "file_extension": ".py",
   "mimetype": "text/x-python",
   "name": "python",
   "nbconvert_exporter": "python",
   "pygments_lexer": "ipython3",
   "version": "3.11.6"
  }
 },
 "nbformat": 4,
 "nbformat_minor": 2
}
