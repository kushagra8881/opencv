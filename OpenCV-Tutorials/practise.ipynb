{
 "cells": [
  {
   "cell_type": "code",
   "execution_count": 1,
   "metadata": {
    "ExecuteTime": {
     "end_time": "2024-01-27T04:32:59.274709711Z",
     "start_time": "2024-01-27T04:32:54.737158046Z"
    }
   },
   "outputs": [],
   "source": [
    "import cv2\n",
    "img=cv2.imread(\"/home/kushagra/Documents/code/AI/opencv-course/Resources/Photos/cat.jpg\",1)\n",
    "cv2.imshow('images',img)\n",
    "cv2.waitKey(0)\n",
    "cv2.destroyAllWindows()"
   ]
  },
  {
   "cell_type": "code",
   "execution_count": 2,
   "metadata": {
    "ExecuteTime": {
     "end_time": "2024-01-27T04:33:16.988691878Z",
     "start_time": "2024-01-27T04:32:59.273616921Z"
    }
   },
   "outputs": [],
   "source": [
    "import cv2\n",
    "img=cv2.imread(\"/home/kushagra/Documents/code/AI/opencv-course/Resources/Photos/cat.jpg\",-1)\n",
    "img=cv2.resize(img,(0,0),fx=0.5,fy=0.5)\n",
    "cv2.imshow('images',img)\n",
    "cv2.waitKey(0)\n",
    "cv2.destroyAllWindows()"
   ]
  },
  {
   "cell_type": "code",
   "execution_count": 3,
   "metadata": {
    "ExecuteTime": {
     "end_time": "2024-01-27T04:33:20.918140735Z",
     "start_time": "2024-01-27T04:33:16.991758771Z"
    }
   },
   "outputs": [],
   "source": [
    "import cv2 as cv\n",
    "img=cv.imread(\"/home/kushagra/Documents/code/AI/opencv-course/Resources/Photos/cat.jpg\",-1)\n",
    "img=cv.rotate(img,cv.ROTATE_90_COUNTERCLOCKWISE)\n",
    "cv.imshow('images',img)\n",
    "cv.waitKey(0)\n",
    "cv.destroyAllWindows()"
   ]
  },
  {
   "cell_type": "code",
   "execution_count": 4,
   "metadata": {
    "ExecuteTime": {
     "end_time": "2024-01-27T04:33:25.330394156Z",
     "start_time": "2024-01-27T04:33:20.910573996Z"
    }
   },
   "outputs": [],
   "source": [
    "import cv2 as cv\n",
    "img=cv.imread(\"/home/kushagra/Documents/code/AI/opencv-course/Resources/Photos/cat.jpg\",-1)\n",
    "img=cv.rotate(img,cv.ROTATE_90_COUNTERCLOCKWISE)\n",
    "cv.imwrite(\"new.jpg\",img)\n",
    "cv.imshow('images',img)\n",
    "cv.waitKey(0)\n",
    "cv.destroyAllWindows()"
   ]
  },
  {
   "cell_type": "code",
   "execution_count": 5,
   "metadata": {
    "ExecuteTime": {
     "end_time": "2024-01-27T04:33:25.374527593Z",
     "start_time": "2024-01-27T04:33:25.372987717Z"
    }
   },
   "outputs": [
    {
     "name": "stdout",
     "output_type": "stream",
     "text": [
      "[[0 0 0]\n",
      " [0 0 0]\n",
      " [0 0 0]\n",
      " [0 0 0]\n",
      " [0 0 0]\n",
      " [0 0 0]\n",
      " [0 0 0]\n",
      " [0 0 0]\n",
      " [0 0 0]\n",
      " [0 0 0]]\n",
      "<class 'numpy.ndarray'>\n",
      "(427, 640, 3)\n"
     ]
    }
   ],
   "source": [
    "import cv2 as cv\n",
    "import random\n",
    "img=cv.imread(\"/home/kushagra/Documents/code/AI/opencv-course/Resources/Photos/cat.jpg\",-1)\n",
    "print(img[200][2:12])\n",
    "print(type(img))\n",
    "print(img.shape)"
   ]
  },
  {
   "cell_type": "code",
   "execution_count": 6,
   "metadata": {
    "ExecuteTime": {
     "end_time": "2024-01-27T04:33:55.116372320Z",
     "start_time": "2024-01-27T04:33:25.373564342Z"
    }
   },
   "outputs": [],
   "source": [
    "import cv2 as cv\n",
    "import random\n",
    "img=cv.imread(\"/home/kushagra/Documents/code/AI/opencv-course/Resources/Photos/cat.jpg\",-1)\n",
    "for i in range(100):\n",
    "    for j in range(img.shape[1]):\n",
    "        img[i][j]=[random.randint(0,255),random.randint(0,255),random.randint(0,255)]\n",
    "cv.imshow('isdi',img)\n",
    "cv.waitKey(0)\n",
    "cv.destroyAllWindows()"
   ]
  },
  {
   "cell_type": "code",
   "execution_count": 7,
   "metadata": {
    "ExecuteTime": {
     "end_time": "2024-01-27T04:33:57.792315315Z",
     "start_time": "2024-01-27T04:33:55.119351481Z"
    }
   },
   "outputs": [],
   "source": [
    "import cv2\n",
    "img=cv2.imread(\"/home/kushagra/Documents/code/AI/opencv-course/Resources/Photos/cat.jpg\",1)\n",
    "tag=img[200:300,500:600]\n",
    "img[100:200,500:600]=tag\n",
    "cv2.imshow('images',img)\n",
    "cv2.waitKey(0)\n",
    "cv2.destroyAllWindows()"
   ]
  }
 ],
 "metadata": {
  "kernelspec": {
   "display_name": ".venv",
   "language": "python",
   "name": "python3"
  },
  "language_info": {
   "codemirror_mode": {
    "name": "ipython",
    "version": 3
   },
   "file_extension": ".py",
   "mimetype": "text/x-python",
   "name": "python",
   "nbconvert_exporter": "python",
   "pygments_lexer": "ipython3",
   "version": "3.11.6"
  }
 },
 "nbformat": 4,
 "nbformat_minor": 2
}
